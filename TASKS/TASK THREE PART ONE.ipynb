{
 "cells": [
  {
   "cell_type": "code",
   "execution_count": 2,
   "id": "8f4a5c95",
   "metadata": {},
   "outputs": [],
   "source": [
    "# Import libraries for scientific computing and data manipulation\n",
    "import numpy as np\n",
    "import pandas as pd\n",
    "\n",
    "# Import confusion matrix and plotting functions\n",
    "from sklearn.metrics import confusion_matrix\n",
    "import matplotlib.pyplot as plt\n",
    "\n",
    "# Display plots and charts within the Jupyter Notebook\n",
    "%matplotlib inline\n",
    "\n",
    "# Import time module\n",
    "import time\n",
    "\n",
    "# Import PyTorch libraries\n",
    "import torch\n",
    "import torch.nn as nn\n",
    "import torch.nn.functional as F\n",
    "from torch.utils.data import DataLoader, Dataset\n",
    "\n",
    "# Import data loading and preprocessing functions\n",
    "import pandas as pd\n",
    "from torchvision import datasets, transforms\n",
    "\n",
    "# Import image utilities\n",
    "from torchvision.utils import make_grid\n"
   ]
  },
  {
   "cell_type": "code",
   "execution_count": 3,
   "id": "23233ac8",
   "metadata": {},
   "outputs": [],
   "source": [
    "#pip install torch"
   ]
  },
  {
   "cell_type": "code",
   "execution_count": 4,
   "id": "4f65509c",
   "metadata": {},
   "outputs": [],
   "source": [
    "#pip install torchvision"
   ]
  },
  {
   "cell_type": "code",
   "execution_count": 5,
   "id": "79fe6407",
   "metadata": {},
   "outputs": [],
   "source": [
    "# load data\n",
    "train_data = pd.read_csv('/Users/kanso/OneDrive/Desktop/Maths & Prog for AI/fashion-mnist_train.csv')\n",
    "test_data = pd.read_csv('/Users/kanso/OneDrive/Desktop/Maths & Prog for AI/fashion-mnist_test.csv')\n",
    "#list stores the names of the different classes that the data in the CSV files can belong to\n",
    "class_names = ['T-shirt','Trouser','Sweater','Dress','Coat','Sandal','Shirt','Sneaker','Bag','Boot']"
   ]
  },
  {
   "cell_type": "code",
   "execution_count": 6,
   "id": "2b66455f",
   "metadata": {},
   "outputs": [
    {
     "name": "stdout",
     "output_type": "stream",
     "text": [
      "train_data size:  (60000, 785)\n"
     ]
    },
    {
     "data": {
      "text/html": [
       "<div>\n",
       "<style scoped>\n",
       "    .dataframe tbody tr th:only-of-type {\n",
       "        vertical-align: middle;\n",
       "    }\n",
       "\n",
       "    .dataframe tbody tr th {\n",
       "        vertical-align: top;\n",
       "    }\n",
       "\n",
       "    .dataframe thead th {\n",
       "        text-align: right;\n",
       "    }\n",
       "</style>\n",
       "<table border=\"1\" class=\"dataframe\">\n",
       "  <thead>\n",
       "    <tr style=\"text-align: right;\">\n",
       "      <th></th>\n",
       "      <th>label</th>\n",
       "      <th>pixel1</th>\n",
       "      <th>pixel2</th>\n",
       "      <th>pixel3</th>\n",
       "      <th>pixel4</th>\n",
       "      <th>pixel5</th>\n",
       "      <th>pixel6</th>\n",
       "      <th>pixel7</th>\n",
       "      <th>pixel8</th>\n",
       "      <th>pixel9</th>\n",
       "      <th>...</th>\n",
       "      <th>pixel775</th>\n",
       "      <th>pixel776</th>\n",
       "      <th>pixel777</th>\n",
       "      <th>pixel778</th>\n",
       "      <th>pixel779</th>\n",
       "      <th>pixel780</th>\n",
       "      <th>pixel781</th>\n",
       "      <th>pixel782</th>\n",
       "      <th>pixel783</th>\n",
       "      <th>pixel784</th>\n",
       "    </tr>\n",
       "  </thead>\n",
       "  <tbody>\n",
       "    <tr>\n",
       "      <th>0</th>\n",
       "      <td>2</td>\n",
       "      <td>0</td>\n",
       "      <td>0</td>\n",
       "      <td>0</td>\n",
       "      <td>0</td>\n",
       "      <td>0</td>\n",
       "      <td>0</td>\n",
       "      <td>0</td>\n",
       "      <td>0</td>\n",
       "      <td>0</td>\n",
       "      <td>...</td>\n",
       "      <td>0</td>\n",
       "      <td>0</td>\n",
       "      <td>0</td>\n",
       "      <td>0</td>\n",
       "      <td>0</td>\n",
       "      <td>0</td>\n",
       "      <td>0</td>\n",
       "      <td>0</td>\n",
       "      <td>0</td>\n",
       "      <td>0</td>\n",
       "    </tr>\n",
       "    <tr>\n",
       "      <th>1</th>\n",
       "      <td>9</td>\n",
       "      <td>0</td>\n",
       "      <td>0</td>\n",
       "      <td>0</td>\n",
       "      <td>0</td>\n",
       "      <td>0</td>\n",
       "      <td>0</td>\n",
       "      <td>0</td>\n",
       "      <td>0</td>\n",
       "      <td>0</td>\n",
       "      <td>...</td>\n",
       "      <td>0</td>\n",
       "      <td>0</td>\n",
       "      <td>0</td>\n",
       "      <td>0</td>\n",
       "      <td>0</td>\n",
       "      <td>0</td>\n",
       "      <td>0</td>\n",
       "      <td>0</td>\n",
       "      <td>0</td>\n",
       "      <td>0</td>\n",
       "    </tr>\n",
       "    <tr>\n",
       "      <th>2</th>\n",
       "      <td>6</td>\n",
       "      <td>0</td>\n",
       "      <td>0</td>\n",
       "      <td>0</td>\n",
       "      <td>0</td>\n",
       "      <td>0</td>\n",
       "      <td>0</td>\n",
       "      <td>0</td>\n",
       "      <td>5</td>\n",
       "      <td>0</td>\n",
       "      <td>...</td>\n",
       "      <td>0</td>\n",
       "      <td>0</td>\n",
       "      <td>0</td>\n",
       "      <td>30</td>\n",
       "      <td>43</td>\n",
       "      <td>0</td>\n",
       "      <td>0</td>\n",
       "      <td>0</td>\n",
       "      <td>0</td>\n",
       "      <td>0</td>\n",
       "    </tr>\n",
       "    <tr>\n",
       "      <th>3</th>\n",
       "      <td>0</td>\n",
       "      <td>0</td>\n",
       "      <td>0</td>\n",
       "      <td>0</td>\n",
       "      <td>1</td>\n",
       "      <td>2</td>\n",
       "      <td>0</td>\n",
       "      <td>0</td>\n",
       "      <td>0</td>\n",
       "      <td>0</td>\n",
       "      <td>...</td>\n",
       "      <td>3</td>\n",
       "      <td>0</td>\n",
       "      <td>0</td>\n",
       "      <td>0</td>\n",
       "      <td>0</td>\n",
       "      <td>1</td>\n",
       "      <td>0</td>\n",
       "      <td>0</td>\n",
       "      <td>0</td>\n",
       "      <td>0</td>\n",
       "    </tr>\n",
       "    <tr>\n",
       "      <th>4</th>\n",
       "      <td>3</td>\n",
       "      <td>0</td>\n",
       "      <td>0</td>\n",
       "      <td>0</td>\n",
       "      <td>0</td>\n",
       "      <td>0</td>\n",
       "      <td>0</td>\n",
       "      <td>0</td>\n",
       "      <td>0</td>\n",
       "      <td>0</td>\n",
       "      <td>...</td>\n",
       "      <td>0</td>\n",
       "      <td>0</td>\n",
       "      <td>0</td>\n",
       "      <td>0</td>\n",
       "      <td>0</td>\n",
       "      <td>0</td>\n",
       "      <td>0</td>\n",
       "      <td>0</td>\n",
       "      <td>0</td>\n",
       "      <td>0</td>\n",
       "    </tr>\n",
       "  </tbody>\n",
       "</table>\n",
       "<p>5 rows × 785 columns</p>\n",
       "</div>"
      ],
      "text/plain": [
       "   label  pixel1  pixel2  pixel3  pixel4  pixel5  pixel6  pixel7  pixel8  \\\n",
       "0      2       0       0       0       0       0       0       0       0   \n",
       "1      9       0       0       0       0       0       0       0       0   \n",
       "2      6       0       0       0       0       0       0       0       5   \n",
       "3      0       0       0       0       1       2       0       0       0   \n",
       "4      3       0       0       0       0       0       0       0       0   \n",
       "\n",
       "   pixel9  ...  pixel775  pixel776  pixel777  pixel778  pixel779  pixel780  \\\n",
       "0       0  ...         0         0         0         0         0         0   \n",
       "1       0  ...         0         0         0         0         0         0   \n",
       "2       0  ...         0         0         0        30        43         0   \n",
       "3       0  ...         3         0         0         0         0         1   \n",
       "4       0  ...         0         0         0         0         0         0   \n",
       "\n",
       "   pixel781  pixel782  pixel783  pixel784  \n",
       "0         0         0         0         0  \n",
       "1         0         0         0         0  \n",
       "2         0         0         0         0  \n",
       "3         0         0         0         0  \n",
       "4         0         0         0         0  \n",
       "\n",
       "[5 rows x 785 columns]"
      ]
     },
     "execution_count": 6,
     "metadata": {},
     "output_type": "execute_result"
    }
   ],
   "source": [
    "print(\"train_data size: \", train_data.shape)\n",
    "train_data.head()"
   ]
  },
  {
   "cell_type": "code",
   "execution_count": 7,
   "id": "695c88f1",
   "metadata": {},
   "outputs": [],
   "source": [
    "# PyTorch DataLoader\n",
    "\n",
    "# define the FashionMNISTDataset class\n",
    "class FashionMNISTDataset(Dataset):\n",
    "    def __init__(self, file_path):\n",
    "        data = pd.read_csv(file_path,sep=',')\n",
    "        \n",
    "        # convert the pandas DataFrames to torch tensors\n",
    "        # separate tensors for labels and for features (our image pixels)\n",
    "        self.labels = torch.tensor(data['label'].values)\n",
    "        \n",
    "        images = torch.tensor(data.drop(columns=['label']).values)\n",
    "        self.images = torch.reshape(images,(-1, 1, 28, 28))\n",
    "    \n",
    "    # return the number of images in the dataset\n",
    "    def __len__(self):\n",
    "        return len(self.labels)\n",
    "    \n",
    "    # return the image and label at the specified index\n",
    "    def __getitem__(self, idx):\n",
    "        return self.images[idx], self.labels[idx]\n",
    "    \n",
    "    \n",
    "# create a FashionMNISTDataset object for the training data\n",
    "train_data = FashionMNISTDataset('/Users/kanso/OneDrive/Desktop/Maths & Prog for AI/fashion-mnist_train.csv')\n",
    "\n",
    "# create a DataLoader for the training data with a batch size of 10 and shuffle set to True\n",
    "train_loader = DataLoader(train_data, batch_size=10, shuffle=True) \n"
   ]
  },
  {
   "cell_type": "markdown",
   "id": "30b7abd7",
   "metadata": {},
   "source": [
    "This code above defines a custom FashionMNISTDataset class that is used to load and process data from the FashionMNIST dataset using PyTorch. The class inherits from PyTorch's built-in Dataset class and implements three methods: __init__, __len__, and __getitem__. The __init__ method is used to read in the data from a CSV file using pandas and convert it to tensors. The __len__ method returns the number of images in the dataset, and the __getitem__ method returns the image and label at a specified index. The code also creates a FashionMNISTDataset object for the training data and a DataLoader object to load the data in batches of size 10, shuffling the data at each epoch."
   ]
  },
  {
   "cell_type": "code",
   "execution_count": 14,
   "id": "9ac63d3b",
   "metadata": {},
   "outputs": [
    {
     "name": "stdout",
     "output_type": "stream",
     "text": [
      "Images s:  torch.Size([10, 1, 28, 28])\n",
      "Class: Sneaker Trouser Shirt Boot Dress Bag Shirt Sandal Boot Boot\n",
      "Labels: [7 1 6 9 3 8 6 5 9 9]\n"
     ]
    },
    {
     "data": {
      "text/plain": [
       "<matplotlib.image.AxesImage at 0x1be01c2d280>"
      ]
     },
     "execution_count": 14,
     "metadata": {},
     "output_type": "execute_result"
    },
    {
     "data": {
      "image/png": "[encoded data removed]",
      "text/plain": [
       "<Figure size 1200x800 with 1 Axes>"
      ]
     },
     "metadata": {},
     "output_type": "display_data"
    }
   ],
   "source": [
    "# retrieve the first batch of images and labels from the train_loader\n",
    "for images, labels in train_loader: \n",
    "    break\n",
    "    \n",
    "# print the shape of the chunk of images\n",
    "print(\"Images s: \", images.shape)\n",
    "    \n",
    "# print the labels and their corresponding class names\n",
    "print('Class:', *np.array([class_names[i] for i in labels]))\n",
    "print('Labels:', labels.numpy())\n",
    "\n",
    "\n",
    "# create a grid of the images using make_grid and save it to the variable 'img'\n",
    "img = make_grid(images, nrow=10) \n",
    "\n",
    "# create a figure with a size of (12,8) and plot the images using plt.imshow\n",
    "plt.figure(figsize=(12,8))\n",
    "plt.imshow(np.transpose(img.numpy(), (1, 2, 0))) # we need to transpose the images for plt.imshow\n"
   ]
  },
  {
   "cell_type": "markdown",
   "id": "4fc8b6b9",
   "metadata": {},
   "source": [
    "This code above retrieves the first batch of images and labels from the train_loader and prints their shape. It also prints the labels and their corresponding class names. The code then creates a grid of the images using the make_grid function and plots the images using plt.imshow. The images are transposed before being passed to plt.imshow because plt.imshow expects a different shape."
   ]
  },
  {
   "cell_type": "code",
   "execution_count": 6,
   "id": "e9c99f77",
   "metadata": {},
   "outputs": [],
   "source": [
    "test_data = FashionMNISTDataset('/Users/kanso/OneDrive/Desktop/Maths & Prog for AI/fashion-mnist_test.csv')\n",
    "test_loader = DataLoader(test_data, batch_size = 10, shuffle = False)  "
   ]
  },
  {
   "cell_type": "code",
   "execution_count": 7,
   "id": "b3d146bf",
   "metadata": {},
   "outputs": [
    {
     "data": {
      "text/plain": [
       "MyCNN(\n",
       "  (conv1): Conv2d(1, 6, kernel_size=(3, 3), stride=(1, 1))\n",
       "  (conv2): Conv2d(6, 16, kernel_size=(3, 3), stride=(1, 1))\n",
       "  (fc1): Linear(in_features=400, out_features=120, bias=True)\n",
       "  (fc2): Linear(in_features=120, out_features=84, bias=True)\n",
       "  (fc3): Linear(in_features=84, out_features=10, bias=True)\n",
       ")"
      ]
     },
     "execution_count": 7,
     "metadata": {},
     "output_type": "execute_result"
    }
   ],
   "source": [
    "# create the CNN model class\n",
    "class MyCNN(nn.Module):\n",
    "    def __init__(self):\n",
    "        super().__init__()\n",
    "        # define two convolutional layers with kernel size 3 and a stride of 1\n",
    "        self.conv1 = nn.Conv2d(1,6,3,1)\n",
    "        self.conv2 = nn.Conv2d(6,16,3,1)\n",
    "        # define three fully connected layers\n",
    "        self.fc1 = nn.Linear(5*5*16,120)\n",
    "        self.fc2 = nn.Linear(120,84)\n",
    "        self.fc3 = nn.Linear(84,10)\n",
    "\n",
    "    def forward(self, X):\n",
    "        # Apply ReLU activation to the output of the first convolutional layer\n",
    "        X = F.relu(self.conv1(X))\n",
    "        # Apply max pooling with kernel size of 2 and stride of 2 to the output of the ReLU activation\n",
    "        X = F.max_pool2d(X,2,2)\n",
    "        # Apply ReLU activation to the output of the second convolutional layer\n",
    "        X = F.relu(self.conv2(X))\n",
    "        # Apply max pooling with kernel size of 2 and stride of 2 to the output of the ReLU activation\n",
    "        X = F.max_pool2d(X,2,2)\n",
    "        # Flatten the output tensor to a 1D tensor\n",
    "        X = X.view(-1, 5*5*16)\n",
    "        # Apply ReLU activation to the output of the first fully connected layer\n",
    "        X = F.relu(self.fc1(X))\n",
    "        # Apply ReLU activation to the output of the second fully connected layer\n",
    "        X = F.relu(self.fc2(X))\n",
    "        # Apply log-softmax function to the output of the second fully connected layer\n",
    "        return F.log_softmax(X, dim=1)\n",
    "\n",
    "# Set the random seed for PyTorch\n",
    "torch.manual_seed(101)\n",
    "# Instantiate an object of the MyCNN class\n",
    "model = MyCNN()\n",
    "# Print the model\n",
    "model\n"
   ]
  },
  {
   "cell_type": "markdown",
   "id": "2ac0a5cd",
   "metadata": {},
   "source": [
    "This code above defines a class called MyCNN which represents a convolutional neural network (CNN) model. The MyCNN class subclasses the nn.Module class from PyTorch, which is a base class for defining models in PyTorch.\n",
    "\n",
    "The MyCNN class has an __init__ method and a forward method. The __init__ method is used to define the layers of the model. The forward method is used to define how data flows through the model during the forward pass of training or evaluation.\n",
    "\n",
    "The MyCNN model has two convolutional layers and three fully connected layers. The first convolutional layer has 1 input channel, 6 output channels, and a kernel size of 3. The second convolutional layer has 6 input channels, 16 output channels, and a kernel size of 3. The fully connected layers have the following number of neurons: 5516, 120, 84, and 10.\n",
    "\n",
    "The forward method applies ReLU activation to the outputs of the convolutional layers. It applies max pooling with kernel size of 2 and stride of 2 to the outputs of the ReLU activations. It then flattens the output tensor to a 1D tensor and applies ReLU activation to the outputs of the fully connected layers. It finally applies the log-softmax function to the output of the final fully connected layer.\n",
    "\n",
    "After the MyCNN class is defined, the code sets the random seed for PyTorch using the torch.manual_seed() function. It then instantiates an object of the MyCNN class and assigns it to the model variable. Finally, it prints the model.\n",
    "\n"
   ]
  },
  {
   "cell_type": "code",
   "execution_count": 8,
   "id": "a2750182",
   "metadata": {},
   "outputs": [
    {
     "name": "stdout",
     "output_type": "stream",
     "text": [
      "Total number of parameters: 60074\n"
     ]
    }
   ],
   "source": [
    "def count_parameters(model):\n",
    "    # get the number of parameters in the model that require gradient\n",
    "    params = [p.numel() for p in model.parameters() if p.requires_grad]\n",
    "    \n",
    "    # print the total number of parameters in the model\n",
    "    print(f'Total number of parameters: {sum(params)}')\n",
    "\n",
    "# count the number of parameters in the model\n",
    "count_parameters(model)\n",
    "\n"
   ]
  },
  {
   "cell_type": "markdown",
   "id": "03e8c7b4",
   "metadata": {},
   "source": [
    "This code defines a function count_parameters that takes the CNN model above as input and counts the number of parameters in the model that require gradient. The function prints the total number of parameters in the model. "
   ]
  },
  {
   "cell_type": "code",
   "execution_count": 9,
   "id": "507f1995",
   "metadata": {},
   "outputs": [],
   "source": [
    "#Train the CNN model\n",
    "\n",
    "# set the device to run on (CPU or GPU)\n",
    "device = torch.device(\"cuda\" if torch.cuda.is_available() else \"cpu\")\n",
    "\n",
    "# move the model and the data to the chosen device\n",
    "model = model.to(device)\n",
    "\n",
    "# define the evaluation criterion (cross entropy loss)\n",
    "evaluation_criterion = nn.CrossEntropyLoss()\n",
    "\n",
    "# define the optimizer (Adam)\n",
    "optimizer = torch.optim.Adam(model.parameters(), lr=0.001)\n"
   ]
  },
  {
   "cell_type": "markdown",
   "id": "685dfa4a",
   "metadata": {},
   "source": [
    "This code above sets the device to run on to either the GPU or the CPU and moves the model and data to that device. It also defines the evaluation criterion for the model to be the cross entropy loss and the optimiser to be the Adam optimiser. The Adam optimiser will be used to update the model's parameters during the training process using the specified learning rate."
   ]
  },
  {
   "cell_type": "code",
   "execution_count": 10,
   "id": "ff119338",
   "metadata": {},
   "outputs": [
    {
     "name": "stdout",
     "output_type": "stream",
     "text": [
      "cpu\n"
     ]
    }
   ],
   "source": [
    "# Print the device being used\n",
    "print(device)"
   ]
  },
  {
   "cell_type": "code",
   "execution_count": 11,
   "id": "ad2b7006",
   "metadata": {},
   "outputs": [],
   "source": [
    "# set the test split ratio\n",
    "test_split = 0.2\n",
    "\n",
    "# load the FashionMNIST dataset\n",
    "train_data = FashionMNISTDataset('/Users/kanso/OneDrive/Desktop/Maths & Prog for AI/fashion-mnist_train.csv')\n",
    "\n",
    "# get the size of the dataset\n",
    "dataset_size = len(train_data)\n",
    "\n",
    "# calculate the size of the validation set\n",
    "val_size = int(test_split * dataset_size)\n",
    "\n",
    "# calculate the size of the training set\n",
    "train_size = dataset_size - val_size\n",
    "\n",
    "# create a random generator\n",
    "generator = torch.Generator().manual_seed(42)\n",
    "\n",
    "# split the dataset into a training set and a validation set\n",
    "train_set, val_set = torch.utils.data.random_split(train_data, lengths=[train_size, val_size], generator=generator)\n"
   ]
  },
  {
   "cell_type": "markdown",
   "id": "7d68938a",
   "metadata": {},
   "source": [
    "The code above sets the test split ratio, loads the FashionMNIST dataset, and calculates the size of the training and validation sets. It then creates a random generator and uses it to split the dataset into a training set and a validation set using the random_split function from PyTorch's torch.utils.data module. The generator ensures that the same split is produced each time the code is run."
   ]
  },
  {
   "cell_type": "code",
   "execution_count": 13,
   "id": "a9ef6266",
   "metadata": {},
   "outputs": [],
   "source": [
    "def train_model(batch_size=10, GPU=False, epochs=10, lr=0.001):\n",
    "    # Set the random seed for PyTorch\n",
    "    torch.manual_seed(42)\n",
    "    \n",
    "    # Create DataLoader objects for the training and validation sets\n",
    "    train_loader = DataLoader(train_set, batch_size=batch_size, shuffle=True) \n",
    "    val_loader = DataLoader(val_set, batch_size=batch_size, shuffle=True) \n",
    "\n",
    "    # Create the model\n",
    "    model = MyCNN()\n",
    "    \n",
    "    # Move the model to the chosen device (CPU or GPU)\n",
    "    if GPU:\n",
    "        model.to(device)\n",
    "\n",
    "    # Define the evaluation criterion (cross entropy loss)\n",
    "    evaluation_criterion = nn.CrossEntropyLoss()\n",
    "\n",
    "    # Define the optimizer (Adam)\n",
    "    optimizer = torch.optim.Adam(model.parameters(), lr=lr)\n",
    "    \n",
    "    # Record the start time of training\n",
    "    start = time.time()\n",
    "    # Initialize lists to store training and test loss and accuracy values at each epoch\n",
    "    train_losses = []\n",
    "    test_losses = []\n",
    "    train_correct = []\n",
    "    test_correct = []\n",
    "    # Loop over the specified number of epochs\n",
    "    for i in range(epochs):\n",
    "        # Initialize counters for number of correctly classified examples in the training and test sets\n",
    "        train_correct_epoch = 0\n",
    "        test_correct_epoch = 0\n",
    "         # Loop over the training data in the train_loader\n",
    "        for X_train, y_train in train_loader:\n",
    "            # If the GPU flag is set, move the data to the specified device (presumably a GPU)\n",
    "            if GPU:\n",
    "                X_train, y_train = X_train.to(device), y_train.to(device)\n",
    "            # Pass the training data through the model and calculate the loss\n",
    "            y_pred = model(X_train.float())\n",
    "            loss = evaluation_criterion(y_pred, y_train)\n",
    "            \n",
    "            # Make predictions on the training data and increment the train_correct_epoch counter for each correctly classified example\n",
    "            predicted_classes = torch.max(y_pred.data, 1)[1]\n",
    "            train_correct_epoch += (predicted_classes == y_train).sum()\n",
    "            # Perform backpropagation and update the model's parameters using the optimizer\n",
    "            optimizer.zero_grad()\n",
    "            loss.backward()\n",
    "            optimizer.step()\n",
    "        # Append the current loss and accuracy values to the train_losses and train_correct lists, respectively\n",
    "        train_losses.append(loss)\n",
    "        train_correct.append(train_correct_epoch.item()*100/len(train_set))\n",
    "        # Set the model to evaluation mode\n",
    "        model.eval()\n",
    "        # Disable gradient calculations (since we are in evaluation mode)\n",
    "        with torch.no_grad():\n",
    "            for X_test, y_test in test_loader:\n",
    "                 # If the GPU flag is set, move the data to the specified device (presumably a GPU)\n",
    "                if GPU:\n",
    "                    X_test, y_test = X_test.to(device), y_test.to(device)\n",
    "                \n",
    "                # Make predictions on the test data and increment the test_correct_epoch counter for each correctly classified example\n",
    "                y_pred = model(X_test.float())\n",
    "                predicted_classes = torch.max(y_pred.data, 1)[1]\n",
    "                test_correct_epoch += (predicted_classes == y_test).sum()\n",
    "            \n",
    "             # Calculate the test loss\n",
    "            loss = evaluation_criterion(y_pred, y_test)\n",
    "            \n",
    "            # Append the current loss and accuracy values to the test_losses and test_correct lists, respectively\n",
    "            test_losses.append(loss)\n",
    "            test_correct.append(test_correct_epoch.item()*100/len(val_set))\n",
    "        \n",
    "        # Set the model back to training mode\n",
    "        model.train()\n",
    "        # Print out the current epoch number, training and test loss and accuracy values, and the number of correctly classified examples in the training and test sets\n",
    "        print(f'Epoch: {i+1} [Train] Loss: {train_losses[-1]:7.5} Accuracy: {train_correct[-1]:4.2f} {train_correct_epoch} / {len(train_set)} [Eval] Loss: {test_losses[-1]:7.5} Accuracy: {test_correct[-1]:4.2f}')\n",
    "        \n",
    "    print(f'Duration of training (min): {(time.time()-start)/60}')\n",
    "    \n",
    "    result = (batch_size, train_correct, test_correct, train_losses, test_losses)\n",
    "    \n",
    "    return model, result"
   ]
  },
  {
   "cell_type": "markdown",
   "id": "a60b34de",
   "metadata": {},
   "source": [
    "Above is the code that defines a function train_model that trains a CNN model on a given dataset. The function takes four optional parameters: batch_size, GPU, epochs, and LR. The batch_size parameter specifies the number of examples to be processed in each batch, the GPU parameter specifies whether to use a GPU or CPU for training, the epochs parameter specifies the number of training epochs, and the LR parameter specifies the learning rate for the Adam optimiser.\n",
    "\n",
    "The function first creates DataLoader objects for the training and validation sets, then creates a CNN model and moves it to the chosen device (CPU or GPU). It then defines the evaluation criterion (cross-entropy loss) and the optimiser (Adam). The function then begins a loop over the number of epochs, in which it trains the model on the training set and evaluates it on the validation set. It stores the loss and accuracy for each epoch and prints them to the console. Finally, the function returns the trained model and a tuple containing the batch size, training and validation accuracies, and training and validation losses.\n"
   ]
  },
  {
   "cell_type": "code",
   "execution_count": 14,
   "id": "86e270c9",
   "metadata": {},
   "outputs": [
    {
     "name": "stdout",
     "output_type": "stream",
     "text": [
      "Epoch: 1 [Train] Loss:    1.25 Accuracy: 51.83 24880 / 48000 [Eval] Loss:  1.8809 Accuracy: 46.97\n",
      "Epoch: 2 [Train] Loss: 0.54903 Accuracy: 57.42 27562 / 48000 [Eval] Loss:   1.669 Accuracy: 49.03\n",
      "Epoch: 3 [Train] Loss:  2.1933 Accuracy: 58.73 28191 / 48000 [Eval] Loss:  1.5185 Accuracy: 49.07\n",
      "Epoch: 4 [Train] Loss: 0.76018 Accuracy: 59.47 28546 / 48000 [Eval] Loss:  1.5647 Accuracy: 49.52\n",
      "Epoch: 5 [Train] Loss: 0.93829 Accuracy: 60.07 28832 / 48000 [Eval] Loss:  1.6052 Accuracy: 49.48\n",
      "Epoch: 6 [Train] Loss:   1.058 Accuracy: 60.42 29002 / 48000 [Eval] Loss:  1.5999 Accuracy: 50.17\n",
      "Epoch: 7 [Train] Loss:  1.7947 Accuracy: 60.97 29265 / 48000 [Eval] Loss:  1.7765 Accuracy: 49.44\n",
      "Epoch: 8 [Train] Loss:  1.9316 Accuracy: 60.97 29265 / 48000 [Eval] Loss:  1.6901 Accuracy: 49.39\n",
      "Epoch: 9 [Train] Loss:  1.9386 Accuracy: 61.22 29386 / 48000 [Eval] Loss:  1.6069 Accuracy: 49.60\n",
      "Epoch: 10 [Train] Loss:  1.3697 Accuracy: 62.01 29763 / 48000 [Eval] Loss:  1.2134 Accuracy: 58.28\n",
      "Duration of training (min): 6.164004516601563\n"
     ]
    }
   ],
   "source": [
    "# Train the model using a batch size of 10 and with the GPU turned off\n",
    "model10, result10 = train_model(batch_size=10, GPU=False) "
   ]
  },
  {
   "cell_type": "markdown",
   "id": "33b20dcf",
   "metadata": {},
   "source": [
    "The code above trains the CNN model with a batch size of 10 and with the GPU turned off. The train_model() function is used to train the model and returns the trained model and a tuple containing the model's training and test loss and accuracy values at each epoch. The trained model and its results are saved in the variables model10 and result10, respectively."
   ]
  },
  {
   "cell_type": "markdown",
   "id": "423405ca",
   "metadata": {},
   "source": [
    "## Evaluation\n",
    "\n",
    "Based on the results, the model using a batch size of 10 and with the GPU turned off had an overall accuracy of around 50% on the training set and about 50% on the evaluation set. Furthermore, the model improved slightly over the course of training, with the accuracy on the training set increasing from around 51% to approximately 62% and the accuracy on the evaluation set rising from about 47% to about 58%. However, the model's performance on both sets was relatively poor overall, and there is likely room for improvement."
   ]
  },
  {
   "cell_type": "code",
   "execution_count": 41,
   "id": "3c672e71",
   "metadata": {
    "scrolled": false
   },
   "outputs": [
    {
     "data": {
      "image/png": "[encoded data removed]",
      "text/plain": [
       "<Figure size 1200x1200 with 1 Axes>"
      ]
     },
     "metadata": {},
     "output_type": "display_data"
    }
   ],
   "source": [
    "#Reults\n",
    "def plot_results(res_arr):\n",
    "    # Create a figure with two subplots\n",
    "    plt.figure(figsize=(12,12))\n",
    "    \n",
    "    # Iterate over the results array\n",
    "    for result in res_arr:\n",
    "        (bsz, train_acc, test_acc, train_loss, test_loss) = result\n",
    "        \n",
    "        # Plot the accuracy for both training and evaluation sets\n",
    "        plt.subplot(211)\n",
    "        plt.plot(train_acc, label=f'training accuracy b={bsz}', color='blue', linestyle='-', marker='o') # Plot training accuracy\n",
    "        plt.plot(test_acc, label=f'eval set accuracy b={bsz}', color='green', linestyle='--', marker='s') # Plot evaluation set accuracy\n",
    "        plt.xlabel('Epoch') # Add x-axis label\n",
    "        plt.ylabel('Accuracy (%)') # Add y-axis label\n",
    "        plt.ylim(0,100) # Set y-axis limits\n",
    "        plt.title('Accuracy at the end of each epoch') # Add plot title\n",
    "        plt.legend() # Add legend\n",
    "        \n",
    "\n",
    "\n",
    "plot_results([result10])\n",
    "\n"
   ]
  },
  {
   "cell_type": "code",
   "execution_count": 17,
   "id": "13f626b2",
   "metadata": {},
   "outputs": [
    {
     "name": "stdout",
     "output_type": "stream",
     "text": [
      "Epoch: 1 [Train] Loss:  1.7115 Accuracy: 62.83 30160 / 48000 [Eval] Loss:  1.2713 Accuracy: 55.73\n",
      "Epoch: 2 [Train] Loss: 0.061394 Accuracy: 66.49 31914 / 48000 [Eval] Loss:  1.1691 Accuracy: 56.62\n",
      "Epoch: 3 [Train] Loss:  4.4838 Accuracy: 67.28 32294 / 48000 [Eval] Loss:  1.0472 Accuracy: 56.82\n",
      "Epoch: 4 [Train] Loss: 0.11538 Accuracy: 67.75 32520 / 48000 [Eval] Loss:  1.0217 Accuracy: 57.16\n",
      "Epoch: 5 [Train] Loss: 0.055096 Accuracy: 68.00 32641 / 48000 [Eval] Loss:   1.049 Accuracy: 57.21\n",
      "Epoch: 6 [Train] Loss:  1.5843 Accuracy: 68.35 32809 / 48000 [Eval] Loss:  1.0045 Accuracy: 57.09\n",
      "Epoch: 7 [Train] Loss:  2.2203 Accuracy: 72.97 35024 / 48000 [Eval] Loss: 0.83089 Accuracy: 65.47\n",
      "Epoch: 8 [Train] Loss: 0.06545 Accuracy: 83.06 39871 / 48000 [Eval] Loss: 0.29541 Accuracy: 72.08\n",
      "Epoch: 9 [Train] Loss:  0.4334 Accuracy: 87.51 42006 / 48000 [Eval] Loss:  0.2528 Accuracy: 72.66\n",
      "Epoch: 10 [Train] Loss: 0.0086328 Accuracy: 87.78 42133 / 48000 [Eval] Loss: 0.26679 Accuracy: 72.75\n",
      "Duration of training (min): 14.269121368726095\n",
      "Epoch: 1 [Train] Loss:  1.6293 Accuracy: 62.39 29946 / 48000 [Eval] Loss:  1.3814 Accuracy: 54.77\n",
      "Epoch: 2 [Train] Loss: 0.47155 Accuracy: 70.65 33910 / 48000 [Eval] Loss: 0.79407 Accuracy: 64.22\n",
      "Epoch: 3 [Train] Loss:  1.2715 Accuracy: 77.38 37143 / 48000 [Eval] Loss: 0.78955 Accuracy: 64.10\n",
      "Epoch: 4 [Train] Loss: 0.87255 Accuracy: 78.21 37541 / 48000 [Eval] Loss: 0.88816 Accuracy: 65.12\n",
      "Epoch: 5 [Train] Loss:  0.8488 Accuracy: 78.88 37861 / 48000 [Eval] Loss: 0.83547 Accuracy: 64.88\n",
      "Epoch: 6 [Train] Loss: 0.48206 Accuracy: 79.49 38155 / 48000 [Eval] Loss: 0.70024 Accuracy: 64.88\n",
      "Epoch: 7 [Train] Loss: 0.33261 Accuracy: 80.27 38528 / 48000 [Eval] Loss: 0.88257 Accuracy: 65.39\n",
      "Epoch: 8 [Train] Loss: 0.73883 Accuracy: 80.46 38623 / 48000 [Eval] Loss:  0.9729 Accuracy: 65.41\n",
      "Epoch: 9 [Train] Loss: 0.64342 Accuracy: 80.91 38836 / 48000 [Eval] Loss: 0.89482 Accuracy: 65.61\n",
      "Epoch: 10 [Train] Loss: 0.90303 Accuracy: 81.49 39116 / 48000 [Eval] Loss: 0.66203 Accuracy: 66.01\n",
      "Duration of training (min): 2.767547078927358\n",
      "Epoch: 1 [Train] Loss:  1.4989 Accuracy: 66.43 31887 / 48000 [Eval] Loss:  1.2665 Accuracy: 59.76\n",
      "Epoch: 2 [Train] Loss:  1.2233 Accuracy: 72.03 34576 / 48000 [Eval] Loss:  1.1477 Accuracy: 60.52\n",
      "Epoch: 3 [Train] Loss:  1.2925 Accuracy: 72.79 34937 / 48000 [Eval] Loss:  1.1034 Accuracy: 60.69\n",
      "Epoch: 4 [Train] Loss:  1.3493 Accuracy: 73.69 35370 / 48000 [Eval] Loss:  1.1041 Accuracy: 61.24\n",
      "Epoch: 5 [Train] Loss:  1.0574 Accuracy: 74.07 35553 / 48000 [Eval] Loss:  1.1677 Accuracy: 61.27\n",
      "Epoch: 6 [Train] Loss:  1.3054 Accuracy: 74.37 35699 / 48000 [Eval] Loss:  1.2445 Accuracy: 61.68\n",
      "Epoch: 7 [Train] Loss:  0.9736 Accuracy: 74.72 35868 / 48000 [Eval] Loss:  1.1543 Accuracy: 60.91\n",
      "Epoch: 8 [Train] Loss:  1.0964 Accuracy: 74.96 35980 / 48000 [Eval] Loss:  1.1175 Accuracy: 61.48\n",
      "Epoch: 9 [Train] Loss:    1.14 Accuracy: 75.08 36037 / 48000 [Eval] Loss:  1.1526 Accuracy: 61.75\n",
      "Epoch: 10 [Train] Loss:  1.1775 Accuracy: 75.37 36179 / 48000 [Eval] Loss:  1.0306 Accuracy: 61.97\n",
      "Duration of training (min): 1.91739262342453\n",
      "Epoch: 1 [Train] Loss:   1.109 Accuracy: 64.55 30982 / 48000 [Eval] Loss:  1.1873 Accuracy: 61.15\n",
      "Epoch: 2 [Train] Loss: 0.76137 Accuracy: 73.97 35508 / 48000 [Eval] Loss: 0.98719 Accuracy: 62.00\n",
      "Epoch: 3 [Train] Loss:  1.0655 Accuracy: 75.95 36455 / 48000 [Eval] Loss: 0.88012 Accuracy: 63.37\n",
      "Epoch: 4 [Train] Loss:  1.1061 Accuracy: 76.78 36852 / 48000 [Eval] Loss: 0.98109 Accuracy: 63.03\n",
      "Epoch: 5 [Train] Loss:  0.6296 Accuracy: 77.36 37132 / 48000 [Eval] Loss:  1.0537 Accuracy: 64.33\n",
      "Epoch: 6 [Train] Loss: 0.71365 Accuracy: 78.04 37458 / 48000 [Eval] Loss: 0.94943 Accuracy: 64.90\n",
      "Epoch: 7 [Train] Loss: 0.62237 Accuracy: 78.53 37693 / 48000 [Eval] Loss: 0.81709 Accuracy: 64.22\n",
      "Epoch: 8 [Train] Loss: 0.69392 Accuracy: 79.10 37967 / 48000 [Eval] Loss:  0.8066 Accuracy: 64.59\n",
      "Epoch: 9 [Train] Loss: 0.31776 Accuracy: 83.49 40076 / 48000 [Eval] Loss: 0.52454 Accuracy: 72.78\n",
      "Epoch: 10 [Train] Loss: 0.27927 Accuracy: 89.16 42799 / 48000 [Eval] Loss:  0.3892 Accuracy: 72.89\n",
      "Duration of training (min): 1.9291253209114074\n"
     ]
    }
   ],
   "source": [
    "# Set a list of batch sizes to train the model with\n",
    "batch_sizes = [4, 10, 32, 128, 256]\n",
    "\n",
    "# Initialize lists to store the trained models and their results\n",
    "trained_models, model_results = [], []\n",
    "\n",
    "# Iterate over the batch sizes\n",
    "for batch_size in batch_sizes:\n",
    "    # If the current batch size is 10, retrieve the pre-trained model and its results from the model10 and result10 variables\n",
    "    if batch_size == 10:\n",
    "        trained_model = model10\n",
    "        model_result = result10\n",
    "    # If the current batch size is not 10, train a new model with the current batch size and retrieve the trained model and its results\n",
    "    else:\n",
    "        trained_model, model_result = train_model(batch_size=batch_size, GPU=True, epochs=10)\n",
    "    # Append the trained model and its results to the trained_models and model_results lists, respectively\n",
    "    trained_models.append(trained_model)\n",
    "    model_results.append(model_result)\n"
   ]
  },
  {
   "cell_type": "markdown",
   "id": "db2b4bad",
   "metadata": {},
   "source": [
    "## Evaluation\n",
    "The CNN model appears to perform relatively well on the training set, with the accuracy increasing and the loss decreasing over the training process. However, the model's performance on the evaluation set could be better, with the accuracy remaining relatively stable and the loss increasing over the training process. This suggests that the model may be overfitting to the training data. One way to improve the model's performance on the evaluation set would be to increase the amount of data available for training or to use techniques such as regularisation to prevent overfitting."
   ]
  },
  {
   "cell_type": "code",
   "execution_count": 31,
   "id": "a3a52c94",
   "metadata": {},
   "outputs": [
    {
     "data": {
      "text/plain": [
       "(256,\n",
       " [64.54583333333333,\n",
       "  73.975,\n",
       "  75.94791666666667,\n",
       "  76.775,\n",
       "  77.35833333333333,\n",
       "  78.0375,\n",
       "  78.52708333333334,\n",
       "  79.09791666666666,\n",
       "  83.49166666666666,\n",
       "  89.16458333333334],\n",
       " [61.15,\n",
       "  62.0,\n",
       "  63.36666666666667,\n",
       "  63.03333333333333,\n",
       "  64.33333333333333,\n",
       "  64.9,\n",
       "  64.21666666666667,\n",
       "  64.59166666666667,\n",
       "  72.775,\n",
       "  72.89166666666667],\n",
       " [tensor(1.1090, grad_fn=<NllLossBackward0>),\n",
       "  tensor(0.7614, grad_fn=<NllLossBackward0>),\n",
       "  tensor(1.0655, grad_fn=<NllLossBackward0>),\n",
       "  tensor(1.1061, grad_fn=<NllLossBackward0>),\n",
       "  tensor(0.6296, grad_fn=<NllLossBackward0>),\n",
       "  tensor(0.7136, grad_fn=<NllLossBackward0>),\n",
       "  tensor(0.6224, grad_fn=<NllLossBackward0>),\n",
       "  tensor(0.6939, grad_fn=<NllLossBackward0>),\n",
       "  tensor(0.3178, grad_fn=<NllLossBackward0>),\n",
       "  tensor(0.2793, grad_fn=<NllLossBackward0>)],\n",
       " [tensor(1.1873),\n",
       "  tensor(0.9872),\n",
       "  tensor(0.8801),\n",
       "  tensor(0.9811),\n",
       "  tensor(1.0537),\n",
       "  tensor(0.9494),\n",
       "  tensor(0.8171),\n",
       "  tensor(0.8066),\n",
       "  tensor(0.5245),\n",
       "  tensor(0.3892)])"
      ]
     },
     "execution_count": 31,
     "metadata": {},
     "output_type": "execute_result"
    }
   ],
   "source": [
    "model_result"
   ]
  },
  {
   "cell_type": "code",
   "execution_count": 32,
   "id": "dfffaf08",
   "metadata": {},
   "outputs": [
    {
     "data": {
      "text/plain": [
       "MyCNN(\n",
       "  (conv1): Conv2d(1, 6, kernel_size=(3, 3), stride=(1, 1))\n",
       "  (conv2): Conv2d(6, 16, kernel_size=(3, 3), stride=(1, 1))\n",
       "  (fc1): Linear(in_features=400, out_features=120, bias=True)\n",
       "  (fc2): Linear(in_features=120, out_features=84, bias=True)\n",
       "  (fc3): Linear(in_features=84, out_features=10, bias=True)\n",
       ")"
      ]
     },
     "execution_count": 32,
     "metadata": {},
     "output_type": "execute_result"
    }
   ],
   "source": [
    "trained_model"
   ]
  },
  {
   "cell_type": "code",
   "execution_count": 42,
   "id": "e05cbda6",
   "metadata": {},
   "outputs": [
    {
     "data": {
      "image/png": "[encoded data removed]",
      "text/plain": [
       "<Figure size 1200x1200 with 1 Axes>"
      ]
     },
     "metadata": {},
     "output_type": "display_data"
    }
   ],
   "source": [
    "plot_results(model_results)"
   ]
  },
  {
   "cell_type": "code",
   "execution_count": 36,
   "id": "17f7a129",
   "metadata": {},
   "outputs": [],
   "source": [
    "final_model = trained_models[1]"
   ]
  },
  {
   "cell_type": "code",
   "execution_count": 37,
   "id": "c8bc69f9",
   "metadata": {},
   "outputs": [],
   "source": [
    "GPU = False"
   ]
  },
  {
   "cell_type": "code",
   "execution_count": 40,
   "id": "0bd81bc0",
   "metadata": {},
   "outputs": [
    {
     "name": "stdout",
     "output_type": "stream",
     "text": [
      "Accuracy on test set: 69.94%\n"
     ]
    }
   ],
   "source": [
    "# Set the model to evaluation mode\n",
    "final_model.eval()\n",
    "\n",
    "# Initialize a counter for the number of correctly predicted examples\n",
    "correct_predictions = 0\n",
    "\n",
    "# Disable gradient calculations (since we are in evaluation mode)\n",
    "with torch.no_grad():\n",
    "    # Iterate over the test data in the test_loader\n",
    "    for X_test, y_test in test_loader:\n",
    "        # If the GPU flag is set, move the data to the specified device (presumably a GPU)\n",
    "        if GPU:\n",
    "            X_test, y_test = X_test.to(device), y_test.to(device)\n",
    "\n",
    "        # Make predictions on the test data\n",
    "        y_pred = final_model(X_test.float())\n",
    "        # Get the class labels for the predictions\n",
    "        predicted_labels = torch.max(y_pred, 1)[1]\n",
    "        # Increment the correct_predictions counter for each correctly classified example\n",
    "        correct_predictions += (predicted_labels == y_test).sum()\n",
    "\n",
    "# Calculate the accuracy of the model on the test set and print it out\n",
    "test_accuracy = correct_predictions.item() * 100 / len(test_data)\n",
    "print(f'Accuracy on test set: {test_accuracy:.2f}%')\n"
   ]
  },
  {
   "cell_type": "markdown",
   "id": "e0e0c80d",
   "metadata": {},
   "source": [
    "This code sets the model to evaluation mode, disables gradient calculations, and iterates over the test data in the test_loader. Then, for each test example, it makes a prediction using the model, extracts the class labels from the prediction vector, and increments the correct_predictions counter for each correctly classified example. Finally, it calculates the model’s accuracy on the test set by dividing the number of correct predictions by the total number of examples in the test set and prints out the result."
   ]
  },
  {
   "cell_type": "markdown",
   "id": "32b6fd3b",
   "metadata": {},
   "source": [
    "## Evaluation\n",
    "\n",
    "The CNN model achieved an accuracy of 69.94% on the test set. This is a reasonably good result, as it indicates that the model can correctly classify a significant proportion of the test examples. It is also worth noting that the accuracy of the test set is generally a good indicator of the model's generalisation ability, as it measures the model's performance on examples that it has yet to see during training.\n",
    "\n",
    "However, it is vital to consider the context in which the model is being used and the requirements for its performance. For instance, if the task at hand requires a very high level of accuracy, then more than a model with an accuracy of 69.94% may be required. On the other hand, if the task at hand is less critical or less sensitive to errors, then a model with an accuracy of 69.94% may be acceptable.\n",
    "\n",
    "It is also essential to consider the potential sources of errors and biases in the model and the data. For instance, if the model is performing poorly on certain examples or classes, it may be worth analysing the reasons for this and attempting to address any issues. Similarly, suppose the test set is not representative of the real-world distribution of the data. In that case, the model's performance on the test set may not accurately reflect its performance in practice.\n",
    "\n",
    "In summary, the CNN model's accuracy of 69.94% on the test set is a good result. Still, it is crucial to consider the context and requirements of the task at hand and to analyse the sources of errors and biases in the model and the data.\n"
   ]
  },
  {
   "cell_type": "markdown",
   "id": "0da2b528",
   "metadata": {},
   "source": [
    "# Refrences \n",
    "\n",
    "Pankajj (2019) Fashion mnist CNN, Kaggle. Kaggle. Available at: https://www.kaggle.com/code/pankajj/fashion-mnist-with-pytorch-93-accuracy. \n",
    "\n",
    "### Dataset Used - https://www.kaggle.com/datasets/zalando-research/fashionmnist"
   ]
  },
  {
   "cell_type": "code",
   "execution_count": null,
   "id": "3fd971bc",
   "metadata": {},
   "outputs": [],
   "source": []
  }
 ],
 "metadata": {
  "kernelspec": {
   "display_name": "Python 3 (ipykernel)",
   "language": "python",
   "name": "python3"
  },
  "language_info": {
   "codemirror_mode": {
    "name": "ipython",
    "version": 3
   },
   "file_extension": ".py",
   "mimetype": "text/x-python",
   "name": "python",
   "nbconvert_exporter": "python",
   "pygments_lexer": "ipython3",
   "version": "3.9.13"
  }
 },
 "nbformat": 4,
 "nbformat_minor": 5
}
