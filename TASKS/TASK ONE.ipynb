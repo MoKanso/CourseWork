{
 "cells": [
  {
   "cell_type": "code",
   "execution_count": 1,
   "id": "a43df2e7",
   "metadata": {},
   "outputs": [],
   "source": [
    "# Import Libraries\n",
    "import numpy as np\n",
    "import matplotlib.pyplot as plt\n",
    "import matplotlib as mpl\n",
    "from numpy import inf\n",
    "import time\n",
    "import pandas as pd\n",
    "import math\n",
    "import heapq"
   ]
  },
  {
   "cell_type": "markdown",
   "id": "b456e829",
   "metadata": {},
   "source": [
    "###  Imports a number of libraries that provide various functions and tools\n",
    "\n",
    "The numpy library is used for numerical computing in Python, and is used in this code to generate and manipulate arrays and matrices.\n",
    "\n",
    "The matplotlib library is used for plotting and visualisation, and is used in this code to visualise the maze and the path through it.\n",
    "\n",
    "The time library is used to measure the time taken by different parts of the code to run.\n",
    "\n",
    "The pandas library is used for data manipulation and analysis, and is not used in this code.\n",
    "\n",
    "The math library is used for mathematical functions and operations, and is not used in this code.\n",
    "\n",
    "The heapq library is used for implementation of heap queue algorithms, and is not used in this code."
   ]
  },
  {
   "cell_type": "code",
   "execution_count": 10,
   "id": "d2431342",
   "metadata": {},
   "outputs": [],
   "source": [
    "# Below logic is for Heuristic Algorithm\n",
    "\n",
    "class Heuristic:\n",
    "    def find_shortest_path(self, weight_matrix, num_rows, game_mode=1):\n",
    "        # Validate input\n",
    "        if num_rows < 1 or not isinstance(num_rows, int):\n",
    "            raise ValueError(\"Number of rows must be a positive integer.\")\n",
    "        if game_mode not in [1, 2]:\n",
    "            raise ValueError(\"Game mode must be 1 or 2.\")\n",
    "        if weight_matrix.shape != (num_rows, num_rows):\n",
    "            raise ValueError(\"Weight matrix must be a square matrix with dimensions equal to the number of rows.\")\n",
    "\n",
    "        # Record start time of algorithm\n",
    "        start_time = time.time()\n",
    "        \n",
    "        # Initialize path array and current position variables\n",
    "        path = np.zeros((num_rows,num_rows), dtype = np.int8)\n",
    "        current_row, current_col = (0,0)\n",
    "\n",
    "        # Initialize cost variable\n",
    "        cost = 0\n",
    " \n",
    "        # Check which game mode is being played\n",
    "        if game_mode == 1:\n",
    "            # Iterate through the grid until the target cell is reached\n",
    "            for i in range((2 * num_rows) - 1):\n",
    "                # Mark current position in path array and add weight to cost\n",
    "                path[current_row][current_col] = 1\n",
    "                cost += weight_matrix[current_row][current_col]\n",
    "\n",
    "                # Check if the target cell has been reached\n",
    "                if current_row < num_rows - 1 and current_col < num_rows - 1:  \n",
    "                    # Calculate the shortest path between adjacent cells\n",
    "                    if abs(weight_matrix[current_row + 1][current_col]) <= abs(weight_matrix[current_row][current_col + 1]):\n",
    "                        current_row += 1\n",
    "                    else:\n",
    "                        current_col += 1\n",
    "                # If current row is at bottom of grid and column is not at the end, move to next column\n",
    "                elif current_row == num_rows - 1 and current_col != num_rows - 1:\n",
    "                        current_col += 1\n",
    "                # If current column is at end of grid and row is not at the bottom, move to next row\n",
    "                elif current_col == num_rows - 1 and current_row != num_rows -1:\n",
    "                        current_row += 1\n",
    "        # If game mode is  2, run the following loop\n",
    "        elif game_mode == 2:\n",
    "            for i in range(2 * num_rows -1 ):\n",
    "                # Mark current position in path array and store current position in variables\n",
    "                path[current_row][current_col] = 1\n",
    "                prev_row = current_row\n",
    "                prev_col = current_col\n",
    "                # Calculate the absolute shortest path between adjacent cells\n",
    "                if current_row < num_rows - 1  and current_col < num_rows - 1:\n",
    "                    if abs(weight_matrix[current_row + 1][current_col] - weight_matrix[current_row][current_col]) <= abs(weight_matrix[current_row][current_col + 1] - weight_matrix[current_row][current_col]):\n",
    "                        current_row += 1\n",
    "                    else:\n",
    "                        current_col += 1\n",
    "                # If current row is at bottom of grid and column is not at the end, move to next column\n",
    "                elif current_row == num_rows - 1 and current_col != num_rows - 1:\n",
    "                        current_col += 1\n",
    "                # If current column is at end of grid and row is not at the bottom, move to next row\n",
    "                elif current_col == num_rows- 1 and current_row != num_rows - 1:\n",
    "                        current_row += 1\n",
    "                cost += abs(weight_matrix[prev_row][prev_col] - weight_matrix[current_row][current_col])\n",
    "                    \n",
    "        end_time = time.time()\n",
    "        return path, cost, round(1000*(end_time - start_time),2)\n"
   ]
  },
  {
   "cell_type": "markdown",
   "id": "3abf4354",
   "metadata": {},
   "source": [
    "This code above is a class named Heuristic, which defines a function find_shortest_path that takes in three parameters: a weight matrix, a number of rows, and a game mode. The find_shortest_path function uses a heuristic algorithm to find the shortest path through the weight matrix from the top left cell to the bottom right cell, depending on the game mode specified. The function returns a tuple containing the path array, the cost of the path, and the time taken to find the path. The game modes are defined as follows:\n",
    "\n",
    "- If game_mode is 1, the function will find the shortest path by moving to the adjacent cell with the lowest absolute weight value.\n",
    "- If game_mode is 2, the function will find the shortest path by moving to the adjacent cell with the lowest absolute difference in weight value compared to the current cell. The cost of the path is calculated according to the game mode. The time taken to find the path is also recorded and returned in the tuple.\n"
   ]
  },
  {
   "cell_type": "code",
   "execution_count": 11,
   "id": "1cc6fbd4",
   "metadata": {},
   "outputs": [],
   "source": [
    "# Dijkstra Algorithm\n",
    "class Dijkstra: \n",
    "\n",
    "    def dijkstra_path(self, matrix, num_rows, game_mode=1):\n",
    "        # Validate input\n",
    "        if num_rows < 1 or not isinstance(num_rows, int):\n",
    "            raise ValueError(\"Number of rows must be a positive integer.\")\n",
    "        if game_mode not in [1, 2]:\n",
    "            raise ValueError(\"Game mode must be 1 or 2.\")\n",
    "        if matrix.shape != (num_rows, num_rows):\n",
    "            raise ValueError(\"Weight matrix must be a square matrix with dimensions equal to the number of rows.\")\n",
    "\n",
    "        # Record start time of algorithm\n",
    "        start_time = time.time()\n",
    "\n",
    "        # Initialize the graph and costs dictionaries\n",
    "        graph = {}\n",
    "        costs = {}\n",
    "        for x in range(num_rows):\n",
    "            for y in range(num_rows):\n",
    "                # Calculate the indices of the surrounding cells\n",
    "                xm1 = x - 1\n",
    "                ym1 = y - 1\n",
    "                xp1 = x + 1\n",
    "                yp1 = y + 1\n",
    "                # Initialize the cost for each cell to infinity\n",
    "                costs[str(x) + str(y)] = float(\"inf\")\n",
    "                # Create a dictionary for each cell to store its neighbors and their weights\n",
    "                graph[str(x) + str(y)] = {}\n",
    "                # Check if the cell above the current cell is within the grid\n",
    "                above = np.array((xm1, y)) if xm1 >= 0 else np.array((np.nan, np.nan))\n",
    "                if not np.isnan(above[0]):\n",
    "                    # Add the cell above as a neighbor with its corresponding weight\n",
    "                    graph[str(x) + str(y)][str(xm1) + str(y)] = matrix[xm1][y]\n",
    "                # Check if the cell below the current cell is within the grid\n",
    "                below = np.array((xp1, y)) if xp1 < num_rows else np.array((np.nan, np.nan))\n",
    "                if not np.isnan(below[0]):\n",
    "                    # Add the cell below as a neighbor with its corresponding weight\n",
    "                    graph[str(x) + str(y)][str(xp1) + str(y)] = matrix[xp1][y]\n",
    "                # Check if the cell to the left of the current cell is within the grid\n",
    "                left = np.array((x, ym1)) if ym1 >= 0 else np.array((np.nan, np.nan))\n",
    "                if not np.isnan(left[0]):\n",
    "                    # Add the cell to the left as a neighbor with its corresponding weight\n",
    "                    graph[str(x) + str(y)][str(x) + str(ym1)] = matrix[x][ym1]\n",
    "                # Check if the cell to the right of the current cell is within the grid\n",
    "                right = np.array((x, yp1)) if yp1 < num_rows else np.array((np.nan, np.nan))\n",
    "                if not np.isnan(right[0]):\n",
    "                    # Add the cell to the right as a neighbor with its corresponding weight\n",
    "                    graph[str(x) + str(y)][str(x) + str(yp1)] = matrix[x][yp1]\n",
    "                        # Set the cost for the starting cell to 0\n",
    "        costs[\"00\"] = matrix[0][0]\n",
    "        # Initialize the destination and parent dictionaries\n",
    "        destination = str(num_rows - 1) + str(num_rows - 1)\n",
    "        parents = {}\n",
    "        # Perform the search to find the shortest path\n",
    "        result = self.search(\"00\", destination, graph, costs, parents)\n",
    "        # Use the parent dictionary to backpedal from the destination to the starting cell to find the shortest path\n",
    "        spath = self.backpedal(\"00\", destination, result)\n",
    "        # Initialize the path array\n",
    "        path = np.zeros((num_rows, num_rows), dtype=np.int8)\n",
    "        # Mark the cells in the shortest path in the path array\n",
    "        for choosen in spath:\n",
    "            path[int(choosen[0])][int(choosen[1])] = 1\n",
    "        # Initialize the cost variable\n",
    "        cost = 0\n",
    "        # Calculate the cost of the path according to the game mode\n",
    "        if game_mode == 1:\n",
    "            # In game mode 1, the cost is the sum of the weights of the cells in the path\n",
    "            for choosen in spath:\n",
    "                cost += matrix[int(choosen[0])][int(choosen[1])]\n",
    "        else:\n",
    "            # In game mode 2, the cost is the absolute difference between the weights of consecutive cells in the path\n",
    "            for i in range(len(spath) - 1):\n",
    "                cost += abs(matrix[int(spath[i][0])][int(spath[i][1])] - matrix[int(spath[i+1][0])][int(spath[i+1][1])])\n",
    "            \n",
    "            # Calculate the elapsed time\n",
    "        end_time = time.time()\n",
    "        elapsed_time = round(1000*(end_time - start_time), 2)\n",
    "        # Return the path array, cost, and elapsed time\n",
    "        return path, cost, elapsed_time\n",
    "\n",
    "    def search(self, start, end, graph, costs, parents):\n",
    "        # Initialize the priority queue\n",
    "        queue = []\n",
    "        # Push the starting cell onto the priority queue with a priority of 0\n",
    "        heapq.heappush(queue, (0, start))\n",
    "        # Continue the search as long as the priority queue is not empty\n",
    "        while queue:\n",
    "            # Pop the cell with the lowest cost from the priority queue\n",
    "            cost, cell = heapq.heappop(queue)\n",
    "            # Check if the cell is the destination\n",
    "            if cell == end:\n",
    "                # Return the found path\n",
    "                return parents\n",
    "            # Iterate through the cell's neighbors\n",
    "            for neighbor in graph[cell]:\n",
    "                # Calculate the new cost to reach the neighbor\n",
    "                new_cost = cost + graph[cell][neighbor]\n",
    "                # If the new cost is lower than the neighbor's current cost, update the cost and set the parent of the neighbor to the current cell\n",
    "                if new_cost < costs[neighbor]:\n",
    "                    costs[neighbor] = new_cost\n",
    "                    parents[neighbor] = cell\n",
    "                    # Push the neighbor onto the priority queue with its updated cost as the priority\n",
    "                    heapq.heappush(queue, (new_cost, neighbor))\n",
    "        # Return an empty path if the destination was not reached\n",
    "        return {}\n",
    "\n",
    "    def backpedal(self, start, end, parents):\n",
    "        # Create a list to store the path\n",
    "        path = []\n",
    "        # Set the current cell to the end\n",
    "        current = end\n",
    "        # Continue the loop until the start is reached\n",
    "        while current != start:\n",
    "            # Append the current cell to the path\n",
    "            path.append(current)\n",
    "            # Set the current cell to its parent\n",
    "            current = parents[current]\n",
    "        # Append the starting cell to the path\n",
    "        path.append(start)\n",
    "        # Return the path reversed (from start to end)\n",
    "        return path[::-1]\n",
    "\n"
   ]
  },
  {
   "cell_type": "markdown",
   "id": "3d314428",
   "metadata": {},
   "source": [
    "The code above is a class for Dijkstra's algorithm for finding the shortest path in a maze. The class has a method called dijkstra_path, which takes in a weight matrix representing the maze, the number of rows in the matrix, and a game mode. It first performs some input validation, checking that the number of rows is a positive integer and the game mode is either 1 or 2 and that the weight matrix is a square matrix with dimensions equal to the number of rows. It then initialises the graph and costs dictionaries, which will be used to store the neighbours and weights of each cell, and the costs of reaching each cell, respectively. It then sets the cost for the starting cell to 0. It initialises the destination and parent dictionaries, which will be used to store the final destination cell and the parent of each cell in the shortest path, respectively. It then calls the search method to find the shortest path and the backpedal method to trace the path from the destination to the starting cell. It then initialises the path array, marks the cells in the shortest path in the path array, and calculates the cost of the path according to the game mode. Finally, it returns the path array, the cost, and the time taken to find the shortest path.\n",
    "\n",
    "The Dijkstra algorithm implemented in this code uses a simple priority queue to find the shortest path through the maze. The priority queue is implemented using the heapq library, which provides functions for inserting and extracting elements from a priority queue. In this implementation, the priority queue stores the nodes of the graph that have been visited but not yet processed, with the cost of reaching each node as the priority. The algorithm continually selects the node with the lowest cost from the priority queue, updates the costs of its neighbours, and adds them to the queue until the destination is reached. This process continues until the destination node has been processed or the priority queue is empty. At this point, the algorithm terminates, and the shortest path is reconstructed using the backpedal function.\n"
   ]
  },
  {
   "cell_type": "code",
   "execution_count": 19,
   "id": "d783cb3f",
   "metadata": {},
   "outputs": [
    {
     "name": "stdout",
     "output_type": "stream",
     "text": [
      "Enter the size of the grid: 14\n"
     ]
    },
    {
     "data": {
      "image/png": "[encoded data removed]",
      "text/plain": [
       "<Figure size 640x480 with 1 Axes>"
      ]
     },
     "metadata": {},
     "output_type": "display_data"
    },
    {
     "name": "stdout",
     "output_type": "stream",
     "text": [
      "Algorithm Mode: Enter 1 for Heuristic Algorithm or 2 for Dijkstra's Algorithm: 1\n",
      "Game mode: Enter 1 or 2 to select: 1\n"
     ]
    },
    {
     "data": {
      "image/png": "[encoded data removed]",
      "text/plain": [
       "<Figure size 640x480 with 1 Axes>"
      ]
     },
     "metadata": {},
     "output_type": "display_data"
    }
   ],
   "source": [
    "# Define a function to visualise the maze with time associated with each cell\n",
    "def show_maze(weight_matrix):\n",
    "    fig, ax = plt.subplots()\n",
    "    # Use the matshow method of the axis object to visualise the weight_matrix as an image\n",
    "    # Use a color map with three colors: white, light cyan, and paleturquoise\n",
    "    ax.matshow(weight_matrix, cmap=mpl.colors.ListedColormap(['white', 'lightcyan', 'paleturquoise']))\n",
    "    for (i, j), z in np.ndenumerate(weight_matrix):\n",
    "        ax.text(j, i, '{:d}'.format(z), ha='center', va='center')\n",
    "    plt.show()\n",
    "    \n",
    "def visualize_path(path):\n",
    "    fig, ax = plt.subplots()\n",
    "    # Use the text method of the axis object to add a text label to the element\n",
    "    ax.matshow(path, cmap=mpl.colors.ListedColormap(['slategrey', 'cyan']))\n",
    "    for (i, j), z in np.ndenumerate(path):\n",
    "        # The ha and va arguments specify the horizontal and vertical alignment of the text, respectively\n",
    "        ax.text(j, i, '{:d}'.format(z), ha='center', va='center')\n",
    "    plt.show()\n",
    "    \n",
    "# Read the size of the maze from the user\n",
    "size_of_maze = int(input(\"Enter the size of the grid: \"))\n",
    "\n",
    "# Generate a random weight matrix with the given size\n",
    "weight_matrix = np.random.randint(size_of_maze, size = (size_of_maze, size_of_maze))\n",
    "\n",
    "# Visualise the maze with the weight matrix\n",
    "show_maze(weight_matrix)\n",
    "\n",
    "# Read the choice of algorithm mode from the user\n",
    "algorithm_mode = int(input(\"Algorithm Mode: Enter 1 for Heuristic Algorithm or 2 for Dijkstra's Algorithm: \"))\n",
    "# Read the choice of game mode from the user\n",
    "game_mode = int(input(\"Game mode: Enter 1 or 2 to select: \"))\n",
    "\n",
    "# Check the algorithm mode chosen by the user\n",
    "if algorithm_mode == 1:\n",
    "    # If the user chose the Heuristic algorithm, create a Heuristic object\n",
    "    hr = Heuristic()\n",
    "    # Find the shortest path using the Heuristic algorithm\n",
    "    result = hr.find_shortest_path(weight_matrix, size_of_maze, game_mode)\n",
    "    # Unpack the result tuple into separate variables\n",
    "    path, cost, tm = result\n",
    "else:\n",
    "    # If the user chose Dijkstra's algorithm, create a Dijkstra object\n",
    "    dj = Dijkstra()\n",
    "    # Find the shortest path using Dijkstra's algorithm\n",
    "    result = dj.dijkstra_path(weight_matrix, size_of_maze, game_mode)\n",
    "    # Unpack the result tuple into separate variables\n",
    "    path, cost, tm = result\n",
    "\n",
    "# Visualise the path through the maze\n",
    "visualize_path(path)\n",
    "\n",
    "\n",
    "cost_list = []\n",
    "time_list = []\n",
    "cost_list.append(cost)"
   ]
  },
  {
   "cell_type": "markdown",
   "id": "2e263235",
   "metadata": {},
   "source": [
    "This code above implements the two algorithms above to find the shortest path through a maze represented by a 2D weight matrix. The user is prompted to enter the size of the grid and the desired algorithm mode (either Heuristic or Dijkstra's). The grid is generated with random weights and visualised using matplotlib. The user is also prompted to select a game mode (either 1 or 2). The chosen algorithm is then used to find the shortest path through the maze, with the cost and time taken is calculated and stored in variables. The resulting path is then visualised using matplotlib. The cost of the path is added to a list of costs, and the time taken is added to a list of times.\n",
    "\n",
    "It defines two functions: show_maze and visualize_path. The show_maze function takes in a 2D array called weight_matrix and displays a visual representation of the maze, with the time associated with each cell. The visualize_path function takes in a 2D array called path and displays a visual representation of the path through the maze. The code then reads the maze size from the user, generates a random weight matrix with the given size, and visualises the maze with the show_maze function. It then reads the user's choice of algorithm mode and game mode and uses an if statement to determine which algorithm to use to find the shortest path through the maze. The code then calls the visualize_path function to display the path through the maze and creates two empty lists: cost_list and time_list. It then appends the cost variable to the cost_list.\n"
   ]
  },
  {
   "cell_type": "markdown",
   "id": "b33b974a",
   "metadata": {},
   "source": [
    "\n",
    "\n",
    "\n",
    "\n"
   ]
  },
  {
   "cell_type": "code",
   "execution_count": 18,
   "id": "86bbb917",
   "metadata": {},
   "outputs": [
    {
     "name": "stdout",
     "output_type": "stream",
     "text": [
      "Mean cost: 128.0\n",
      "Standard deviation of cost: 0.0\n",
      "Mean time taken: nan\n",
      "Standard deviation of time taken: nan\n"
     ]
    }
   ],
   "source": [
    "#Statistic of the PATH\n",
    "\n",
    "\n",
    "# Calculate the mean and standard deviation of the cost\n",
    "mean_cost = np.mean(cost_list)\n",
    "std_cost = np.std(cost_list)\n",
    "\n",
    "# Calculate the mean and standard deviation of the time taken\n",
    "mean_time = np.mean(time_list)\n",
    "std_time = np.std(time_list)\n",
    "\n",
    "# Print the results\n",
    "print(\"Mean cost:\", mean_cost)\n",
    "print(\"Standard deviation of cost:\", std_cost)\n",
    "print(\"Mean time taken:\", mean_time)\n",
    "print(\"Standard deviation of time taken:\", std_time)\n"
   ]
  },
  {
   "cell_type": "markdown",
   "id": "5bec4ba5",
   "metadata": {},
   "source": [
    "The code above calculates and displays some statistics about the path through the maze. It calculates the mean and standard deviation of the cost and time taken to find the shortest path, and prints the results.\n",
    "\n",
    "The np.mean function from the NumPy library is used to calculate the mean of the cost_list and time_list lists. The np.std function is used to calculate the standard deviation of these lists. The print function is then used to display the results.\n",
    "\n",
    "The mean and standard deviation are commonly used statistical measures that provide information about the central tendency and dispersion of a dataset. The mean is the average of the values in the dataset, and the standard deviation is a measure of how spread out the values are. A small standard deviation indicates that the values are close to the mean, while a large standard deviation indicates that the values are more spread out."
   ]
  },
  {
   "cell_type": "code",
   "execution_count": 17,
   "id": "abfd8547",
   "metadata": {},
   "outputs": [
    {
     "name": "stdout",
     "output_type": "stream",
     "text": [
      "Heuristic algorithm: mean runtime = 0.00002 seconds, standard deviation = 0.00014 seconds\n"
     ]
    }
   ],
   "source": [
    "import numpy as np\n",
    "import statistics\n",
    "import time\n",
    "\n",
    "# Number of trials to run for each algorithm\n",
    "trials = 100\n",
    "\n",
    "# Array to store runtimes for each trial of each algorithm\n",
    "heuristic_runtimes = []\n",
    "\n",
    "# Generate random weight matrices for testing\n",
    "weight_matrices = [np.random.randint(-100, 100, size=(5,5)) for i in range(trials)]\n",
    "\n",
    "# Initialize instances of Heuristic\n",
    "heuristic = Heuristic()\n",
    "\n",
    "# Test Heuristic algorithm\n",
    "for i, weight_matrix in enumerate(weight_matrices):\n",
    "    start_time = time.time()\n",
    "    heuristic.find_shortest_path(weight_matrix, 5)\n",
    "    end_time = time.time()\n",
    "    heuristic_runtimes.append(end_time - start_time)\n",
    "\n",
    "# Calculate mean and standard deviation of runtimes for the algorithm\n",
    "heuristic_mean = statistics.mean(heuristic_runtimes)\n",
    "heuristic_stdev = statistics.stdev(heuristic_runtimes)\n",
    "\n",
    "# Print results\n",
    "print(f\"Heuristic algorithm: mean runtime = {heuristic_mean:.5f} seconds, standard deviation = {heuristic_stdev:.5f} seconds\")"
   ]
  },
  {
   "cell_type": "markdown",
   "id": "5df6bf3e",
   "metadata": {},
   "source": [
    "This code performs some tests on the Heuristic algorithm. It generates 100 random 5x5 weight matrices, and then it uses the Heuristic algorithm to find the shortest path through each one. It measures the time it takes to run the algorithm for each weight matrix, and then it calculates the mean and standard deviation of the runtimes. It finally prints the mean runtime and standard deviation of the runtimes."
   ]
  },
  {
   "cell_type": "code",
   "execution_count": 32,
   "id": "1311e86a",
   "metadata": {},
   "outputs": [
    {
     "name": "stderr",
     "output_type": "stream",
     "text": [
      "C:\\Users\\kanso\\AppData\\Local\\Temp\\ipykernel_28264\\1279930915.py:98: RuntimeWarning: overflow encountered in long_scalars\n",
      "  new_cost = cost + graph[cell][neighbor]\n"
     ]
    },
    {
     "ename": "MemoryError",
     "evalue": "",
     "output_type": "error",
     "traceback": [
      "\u001b[1;31m---------------------------------------------------------------------------\u001b[0m",
      "\u001b[1;31mMemoryError\u001b[0m                               Traceback (most recent call last)",
      "\u001b[1;32m~\\AppData\\Local\\Temp\\ipykernel_28264\\3466002709.py\u001b[0m in \u001b[0;36m<module>\u001b[1;34m\u001b[0m\n\u001b[0;32m     18\u001b[0m \u001b[1;32mfor\u001b[0m \u001b[0mi\u001b[0m\u001b[1;33m,\u001b[0m \u001b[0mweight_matrix\u001b[0m \u001b[1;32min\u001b[0m \u001b[0menumerate\u001b[0m\u001b[1;33m(\u001b[0m\u001b[0mweight_matrices\u001b[0m\u001b[1;33m)\u001b[0m\u001b[1;33m:\u001b[0m\u001b[1;33m\u001b[0m\u001b[1;33m\u001b[0m\u001b[0m\n\u001b[0;32m     19\u001b[0m     \u001b[0mstart_time\u001b[0m \u001b[1;33m=\u001b[0m \u001b[0mtime\u001b[0m\u001b[1;33m.\u001b[0m\u001b[0mtime\u001b[0m\u001b[1;33m(\u001b[0m\u001b[1;33m)\u001b[0m\u001b[1;33m\u001b[0m\u001b[1;33m\u001b[0m\u001b[0m\n\u001b[1;32m---> 20\u001b[1;33m     \u001b[0mdijkstra\u001b[0m\u001b[1;33m.\u001b[0m\u001b[0mdijkstra_path\u001b[0m\u001b[1;33m(\u001b[0m\u001b[0mweight_matrix\u001b[0m\u001b[1;33m,\u001b[0m \u001b[1;36m5\u001b[0m\u001b[1;33m)\u001b[0m\u001b[1;33m\u001b[0m\u001b[1;33m\u001b[0m\u001b[0m\n\u001b[0m\u001b[0;32m     21\u001b[0m     \u001b[0mend_time\u001b[0m \u001b[1;33m=\u001b[0m \u001b[0mtime\u001b[0m\u001b[1;33m.\u001b[0m\u001b[0mtime\u001b[0m\u001b[1;33m(\u001b[0m\u001b[1;33m)\u001b[0m\u001b[1;33m\u001b[0m\u001b[1;33m\u001b[0m\u001b[0m\n\u001b[0;32m     22\u001b[0m     \u001b[0mdijkstra_runtimes\u001b[0m\u001b[1;33m.\u001b[0m\u001b[0mappend\u001b[0m\u001b[1;33m(\u001b[0m\u001b[0mend_time\u001b[0m \u001b[1;33m-\u001b[0m \u001b[0mstart_time\u001b[0m\u001b[1;33m)\u001b[0m\u001b[1;33m\u001b[0m\u001b[1;33m\u001b[0m\u001b[0m\n",
      "\u001b[1;32m~\\AppData\\Local\\Temp\\ipykernel_28264\\1279930915.py\u001b[0m in \u001b[0;36mdijkstra_path\u001b[1;34m(self, matrix, num_rows, game_mode)\u001b[0m\n\u001b[0;32m     56\u001b[0m         \u001b[0mresult\u001b[0m \u001b[1;33m=\u001b[0m \u001b[0mself\u001b[0m\u001b[1;33m.\u001b[0m\u001b[0msearch\u001b[0m\u001b[1;33m(\u001b[0m\u001b[1;34m\"00\"\u001b[0m\u001b[1;33m,\u001b[0m \u001b[0mdestination\u001b[0m\u001b[1;33m,\u001b[0m \u001b[0mgraph\u001b[0m\u001b[1;33m,\u001b[0m \u001b[0mcosts\u001b[0m\u001b[1;33m,\u001b[0m \u001b[0mparents\u001b[0m\u001b[1;33m)\u001b[0m\u001b[1;33m\u001b[0m\u001b[1;33m\u001b[0m\u001b[0m\n\u001b[0;32m     57\u001b[0m         \u001b[1;31m# Use the parent dictionary to backpedal from the destination to the starting cell to find the shortest path\u001b[0m\u001b[1;33m\u001b[0m\u001b[1;33m\u001b[0m\u001b[0m\n\u001b[1;32m---> 58\u001b[1;33m         \u001b[0mspath\u001b[0m \u001b[1;33m=\u001b[0m \u001b[0mself\u001b[0m\u001b[1;33m.\u001b[0m\u001b[0mbackpedal\u001b[0m\u001b[1;33m(\u001b[0m\u001b[1;34m\"00\"\u001b[0m\u001b[1;33m,\u001b[0m \u001b[0mdestination\u001b[0m\u001b[1;33m,\u001b[0m \u001b[0mresult\u001b[0m\u001b[1;33m)\u001b[0m\u001b[1;33m\u001b[0m\u001b[1;33m\u001b[0m\u001b[0m\n\u001b[0m\u001b[0;32m     59\u001b[0m         \u001b[1;31m# Initialize the path array\u001b[0m\u001b[1;33m\u001b[0m\u001b[1;33m\u001b[0m\u001b[0m\n\u001b[0;32m     60\u001b[0m         \u001b[0mpath\u001b[0m \u001b[1;33m=\u001b[0m \u001b[0mnp\u001b[0m\u001b[1;33m.\u001b[0m\u001b[0mzeros\u001b[0m\u001b[1;33m(\u001b[0m\u001b[1;33m(\u001b[0m\u001b[0mnum_rows\u001b[0m\u001b[1;33m,\u001b[0m \u001b[0mnum_rows\u001b[0m\u001b[1;33m)\u001b[0m\u001b[1;33m,\u001b[0m \u001b[0mdtype\u001b[0m\u001b[1;33m=\u001b[0m\u001b[0mnp\u001b[0m\u001b[1;33m.\u001b[0m\u001b[0mint8\u001b[0m\u001b[1;33m)\u001b[0m\u001b[1;33m\u001b[0m\u001b[1;33m\u001b[0m\u001b[0m\n",
      "\u001b[1;32m~\\AppData\\Local\\Temp\\ipykernel_28264\\1279930915.py\u001b[0m in \u001b[0;36mbackpedal\u001b[1;34m(self, start, end, parents)\u001b[0m\n\u001b[0;32m    114\u001b[0m         \u001b[1;32mwhile\u001b[0m \u001b[0mcurrent\u001b[0m \u001b[1;33m!=\u001b[0m \u001b[0mstart\u001b[0m\u001b[1;33m:\u001b[0m\u001b[1;33m\u001b[0m\u001b[1;33m\u001b[0m\u001b[0m\n\u001b[0;32m    115\u001b[0m             \u001b[1;31m# Append the current cell to the path\u001b[0m\u001b[1;33m\u001b[0m\u001b[1;33m\u001b[0m\u001b[0m\n\u001b[1;32m--> 116\u001b[1;33m             \u001b[0mpath\u001b[0m\u001b[1;33m.\u001b[0m\u001b[0mappend\u001b[0m\u001b[1;33m(\u001b[0m\u001b[0mcurrent\u001b[0m\u001b[1;33m)\u001b[0m\u001b[1;33m\u001b[0m\u001b[1;33m\u001b[0m\u001b[0m\n\u001b[0m\u001b[0;32m    117\u001b[0m             \u001b[1;31m# Set the current cell to its parent\u001b[0m\u001b[1;33m\u001b[0m\u001b[1;33m\u001b[0m\u001b[0m\n\u001b[0;32m    118\u001b[0m             \u001b[0mcurrent\u001b[0m \u001b[1;33m=\u001b[0m \u001b[0mparents\u001b[0m\u001b[1;33m[\u001b[0m\u001b[0mcurrent\u001b[0m\u001b[1;33m]\u001b[0m\u001b[1;33m\u001b[0m\u001b[1;33m\u001b[0m\u001b[0m\n",
      "\u001b[1;31mMemoryError\u001b[0m: "
     ]
    }
   ],
   "source": [
    "# Number of trials to run for each algorithm\n",
    "trials = 10\n",
    "\n",
    "# Array to store runtimes for each trial of each algorithm\n",
    "dijkstra_runtimes = []\n",
    "\n",
    "# Generate random weight matrices for testing\n",
    "weight_matrices = [np.random.randint(-100, 100, size=(5,5)) for i in range(trials)]\n",
    "\n",
    "# Initialize instances of Heuristic and Dijikstra classes\n",
    "dijkstra = Dijkstra()\n",
    "\n",
    "# Test Dijkstra algorithm\n",
    "for i, weight_matrix in enumerate(weight_matrices):\n",
    "    start_time = time.time()\n",
    "    dijkstra.dijkstra_path(weight_matrix, 5)\n",
    "    end_time = time.time()\n",
    "    dijkstra_runtimes.append(end_time - start_time)\n",
    "\n",
    "# Calculate mean and standard deviation of runtimes for the algorithm\n",
    "dijkstra_mean = statistics.mean(dijkstra_runtimes)\n",
    "dijkstra_stdev = statistics.stdev(dijkstra_runtimes)\n",
    "\n",
    "# Print results\n",
    "print(f\"Dijkstra algorithm: mean runtime = {dijkstra_mean:.5f} seconds, standard deviation = {dijkstra_stdev:.5f} seconds\")"
   ]
  },
  {
   "cell_type": "markdown",
   "id": "b9f0845c",
   "metadata": {},
   "source": [
    "The code above first initialises an array to store the runtimes of the algorithm and generates a list of random weight matrices to use as input for the algorithm. It then initialises an instance of a Dijkstra class, which is assumed to contain an implementation of the Dijkstra algorithm.\n",
    "\n",
    "Next, the code runs the Dijkstra algorithm on each weight matrices, measuring the time it takes to run each trial and storing the results in the dijkstra_runtimes array. Finally, it calculates the mean and standard deviation of the runtimes and prints the results.\n"
   ]
  },
  {
   "cell_type": "markdown",
   "id": "2f2a1134",
   "metadata": {},
   "source": [
    "# Refrences \n",
    "\n",
    "Garangean, T., Tony GarangeanTony Garangean                    9711 gold badge11 silver badge66 bronze badges and cwebcweb                    36222 silver badges1111 bronze badges (1962) Python - grids, random integers in cells, Stack Overflow. Available at: https://stackoverflow.com/questions/28963122/python-grids-random-integers-in-cells. "
   ]
  },
  {
   "cell_type": "code",
   "execution_count": null,
   "id": "09577a31",
   "metadata": {},
   "outputs": [],
   "source": []
  }
 ],
 "metadata": {
  "kernelspec": {
   "display_name": "Python 3 (ipykernel)",
   "language": "python",
   "name": "python3"
  },
  "language_info": {
   "codemirror_mode": {
    "name": "ipython",
    "version": 3
   },
   "file_extension": ".py",
   "mimetype": "text/x-python",
   "name": "python",
   "nbconvert_exporter": "python",
   "pygments_lexer": "ipython3",
   "version": "3.9.13"
  }
 },
 "nbformat": 4,
 "nbformat_minor": 5
}
